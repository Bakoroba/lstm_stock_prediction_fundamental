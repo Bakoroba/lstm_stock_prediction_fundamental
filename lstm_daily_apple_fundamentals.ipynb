{
 "cells": [
  {
   "cell_type": "code",
   "execution_count": 1,
   "id": "a0b4ef0a-94af-4f5b-a2e2-79951eb2526a",
   "metadata": {},
   "outputs": [
    {
     "data": {
      "text/plain": [
       "'\\n• Long-Only Strategy: For the prediction for each stock on the next day, if the prediction is\\npositive, we buy the stock at the open price and sell the stock at close price in the same day.\\nIf the prediction is negative, no action is taken.\\n• Long-Short Strategy: For the prediction for each stock on the next day, if the prediction\\nis positive, we buy the stock at the open price and sell the stock at close price in the same\\nday. If the prediction is negative, we short-sell the stock at the open price and close out the\\nshort-sell at the close price.\\n'"
      ]
     },
     "execution_count": 1,
     "metadata": {},
     "output_type": "execute_result"
    }
   ],
   "source": [
    "\"\"\"\n",
    "• Long-Only Strategy: For the prediction for each stock on the next day, if the prediction is\n",
    "positive, we buy the stock at the open price and sell the stock at close price in the same day.\n",
    "If the prediction is negative, no action is taken.\n",
    "• Long-Short Strategy: For the prediction for each stock on the next day, if the prediction\n",
    "is positive, we buy the stock at the open price and sell the stock at close price in the same\n",
    "day. If the prediction is negative, we short-sell the stock at the open price and close out the\n",
    "short-sell at the close price.\n",
    "\"\"\""
   ]
  },
  {
   "cell_type": "code",
   "execution_count": 96,
   "id": "9d4b74e8-cc4f-4c8b-9f70-f11807c9dd23",
   "metadata": {},
   "outputs": [],
   "source": [
    "import pandas as pd\n",
    "import numpy as np\n",
    "import matplotlib.pyplot as plt\n",
    "from sklearn.preprocessing import MinMaxScaler\n",
    "from keras.models import Sequential\n",
    "from keras.layers import Dense\n",
    "from keras.layers import LSTM\n",
    "from keras.layers import Dropout\n",
    "from keras.layers import Activation\n",
    "from keras.models import load_model\n"
   ]
  },
  {
   "cell_type": "code",
   "execution_count": 97,
   "id": "474fb103-0277-442c-8fca-c5237ea8eaef",
   "metadata": {},
   "outputs": [
    {
     "data": {
      "text/html": [
       "<div>\n",
       "<style scoped>\n",
       "    .dataframe tbody tr th:only-of-type {\n",
       "        vertical-align: middle;\n",
       "    }\n",
       "\n",
       "    .dataframe tbody tr th {\n",
       "        vertical-align: top;\n",
       "    }\n",
       "\n",
       "    .dataframe thead th {\n",
       "        text-align: right;\n",
       "    }\n",
       "</style>\n",
       "<table border=\"1\" class=\"dataframe\">\n",
       "  <thead>\n",
       "    <tr style=\"text-align: right;\">\n",
       "      <th></th>\n",
       "      <th>Close</th>\n",
       "      <th>Volume</th>\n",
       "      <th>Market Capitalization</th>\n",
       "      <th>Operating Expenses to Revenue</th>\n",
       "      <th>Operating Cash Flow to CapEx</th>\n",
       "    </tr>\n",
       "    <tr>\n",
       "      <th>Date</th>\n",
       "      <th></th>\n",
       "      <th></th>\n",
       "      <th></th>\n",
       "      <th></th>\n",
       "      <th></th>\n",
       "    </tr>\n",
       "  </thead>\n",
       "  <tbody>\n",
       "    <tr>\n",
       "      <th>2008-09-29</th>\n",
       "      <td>3.759286</td>\n",
       "      <td>2622057200</td>\n",
       "      <td>6.566631e+10</td>\n",
       "      <td>0.11835</td>\n",
       "      <td>11.616519</td>\n",
       "    </tr>\n",
       "    <tr>\n",
       "      <th>2008-09-30</th>\n",
       "      <td>4.059286</td>\n",
       "      <td>1626682400</td>\n",
       "      <td>6.566631e+10</td>\n",
       "      <td>0.11835</td>\n",
       "      <td>11.616519</td>\n",
       "    </tr>\n",
       "    <tr>\n",
       "      <th>2008-10-01</th>\n",
       "      <td>3.897143</td>\n",
       "      <td>1296484000</td>\n",
       "      <td>6.566631e+10</td>\n",
       "      <td>0.11835</td>\n",
       "      <td>11.616519</td>\n",
       "    </tr>\n",
       "    <tr>\n",
       "      <th>2008-10-02</th>\n",
       "      <td>3.575000</td>\n",
       "      <td>1609364400</td>\n",
       "      <td>6.566631e+10</td>\n",
       "      <td>0.11835</td>\n",
       "      <td>11.616519</td>\n",
       "    </tr>\n",
       "    <tr>\n",
       "      <th>2008-10-03</th>\n",
       "      <td>3.466786</td>\n",
       "      <td>2294398400</td>\n",
       "      <td>6.566631e+10</td>\n",
       "      <td>0.11835</td>\n",
       "      <td>11.616519</td>\n",
       "    </tr>\n",
       "  </tbody>\n",
       "</table>\n",
       "</div>"
      ],
      "text/plain": [
       "               Close      Volume  Market Capitalization  \\\n",
       "Date                                                      \n",
       "2008-09-29  3.759286  2622057200           6.566631e+10   \n",
       "2008-09-30  4.059286  1626682400           6.566631e+10   \n",
       "2008-10-01  3.897143  1296484000           6.566631e+10   \n",
       "2008-10-02  3.575000  1609364400           6.566631e+10   \n",
       "2008-10-03  3.466786  2294398400           6.566631e+10   \n",
       "\n",
       "            Operating Expenses to Revenue  Operating Cash Flow to CapEx  \n",
       "Date                                                                     \n",
       "2008-09-29                        0.11835                     11.616519  \n",
       "2008-09-30                        0.11835                     11.616519  \n",
       "2008-10-01                        0.11835                     11.616519  \n",
       "2008-10-02                        0.11835                     11.616519  \n",
       "2008-10-03                        0.11835                     11.616519  "
      ]
     },
     "execution_count": 97,
     "metadata": {},
     "output_type": "execute_result"
    }
   ],
   "source": [
    "dataset = pd.read_csv('data/aapl_daily_combined_df.csv',index_col='Date',parse_dates=True,infer_datetime_format=True)\n",
    "dataset.head(5)"
   ]
  },
  {
   "cell_type": "code",
   "execution_count": 98,
   "id": "f91a8e45-d5e0-4c2a-a857-e1c42de705ac",
   "metadata": {},
   "outputs": [],
   "source": [
    "dataset = dataset.dropna()"
   ]
  },
  {
   "cell_type": "code",
   "execution_count": 99,
   "id": "3aed8102-f7cf-4c63-b846-e66bdf3e1f85",
   "metadata": {},
   "outputs": [],
   "source": [
    "#dataset = dataset.drop(dataset.iloc[0],axis=0)\n",
    "#dataset = dataset.drop(index=['2008-09-30'])\n",
    "#dataset.head()"
   ]
  },
  {
   "cell_type": "code",
   "execution_count": 100,
   "id": "a39b753c-130e-4483-85b8-98f2f3745b40",
   "metadata": {},
   "outputs": [
    {
     "data": {
      "text/html": [
       "<div>\n",
       "<style scoped>\n",
       "    .dataframe tbody tr th:only-of-type {\n",
       "        vertical-align: middle;\n",
       "    }\n",
       "\n",
       "    .dataframe tbody tr th {\n",
       "        vertical-align: top;\n",
       "    }\n",
       "\n",
       "    .dataframe thead th {\n",
       "        text-align: right;\n",
       "    }\n",
       "</style>\n",
       "<table border=\"1\" class=\"dataframe\">\n",
       "  <thead>\n",
       "    <tr style=\"text-align: right;\">\n",
       "      <th></th>\n",
       "      <th>Close</th>\n",
       "      <th>Volume</th>\n",
       "      <th>Market Capitalization</th>\n",
       "      <th>Operating Expenses to Revenue</th>\n",
       "      <th>Operating Cash Flow to CapEx</th>\n",
       "    </tr>\n",
       "    <tr>\n",
       "      <th>Date</th>\n",
       "      <th></th>\n",
       "      <th></th>\n",
       "      <th></th>\n",
       "      <th></th>\n",
       "      <th></th>\n",
       "    </tr>\n",
       "  </thead>\n",
       "  <tbody>\n",
       "    <tr>\n",
       "      <th>2022-06-17</th>\n",
       "      <td>131.559998</td>\n",
       "      <td>134520300</td>\n",
       "      <td>2.287142e+12</td>\n",
       "      <td>0.154402</td>\n",
       "      <td>10.89058</td>\n",
       "    </tr>\n",
       "    <tr>\n",
       "      <th>2022-06-21</th>\n",
       "      <td>135.869995</td>\n",
       "      <td>81000500</td>\n",
       "      <td>2.287142e+12</td>\n",
       "      <td>0.154402</td>\n",
       "      <td>10.89058</td>\n",
       "    </tr>\n",
       "    <tr>\n",
       "      <th>2022-06-22</th>\n",
       "      <td>135.350006</td>\n",
       "      <td>73409200</td>\n",
       "      <td>2.287142e+12</td>\n",
       "      <td>0.154402</td>\n",
       "      <td>10.89058</td>\n",
       "    </tr>\n",
       "    <tr>\n",
       "      <th>2022-06-23</th>\n",
       "      <td>138.270004</td>\n",
       "      <td>72433800</td>\n",
       "      <td>2.287142e+12</td>\n",
       "      <td>0.154402</td>\n",
       "      <td>10.89058</td>\n",
       "    </tr>\n",
       "    <tr>\n",
       "      <th>2022-06-24</th>\n",
       "      <td>141.660004</td>\n",
       "      <td>89116800</td>\n",
       "      <td>2.287142e+12</td>\n",
       "      <td>0.154402</td>\n",
       "      <td>10.89058</td>\n",
       "    </tr>\n",
       "  </tbody>\n",
       "</table>\n",
       "</div>"
      ],
      "text/plain": [
       "                 Close     Volume  Market Capitalization  \\\n",
       "Date                                                       \n",
       "2022-06-17  131.559998  134520300           2.287142e+12   \n",
       "2022-06-21  135.869995   81000500           2.287142e+12   \n",
       "2022-06-22  135.350006   73409200           2.287142e+12   \n",
       "2022-06-23  138.270004   72433800           2.287142e+12   \n",
       "2022-06-24  141.660004   89116800           2.287142e+12   \n",
       "\n",
       "            Operating Expenses to Revenue  Operating Cash Flow to CapEx  \n",
       "Date                                                                     \n",
       "2022-06-17                       0.154402                      10.89058  \n",
       "2022-06-21                       0.154402                      10.89058  \n",
       "2022-06-22                       0.154402                      10.89058  \n",
       "2022-06-23                       0.154402                      10.89058  \n",
       "2022-06-24                       0.154402                      10.89058  "
      ]
     },
     "execution_count": 100,
     "metadata": {},
     "output_type": "execute_result"
    }
   ],
   "source": [
    "dataset.tail()"
   ]
  },
  {
   "cell_type": "code",
   "execution_count": 101,
   "id": "153cf5b9-99bd-4bcf-a16c-ca986f1384d2",
   "metadata": {},
   "outputs": [
    {
     "name": "stdout",
     "output_type": "stream",
     "text": [
      "(2766, 5)\n",
      "(693, 5)\n"
     ]
    }
   ],
   "source": [
    "# We want 80% of the data to be used for training, and 20% for testing\n",
    "n_train_rows = int(dataset.shape[0]*.8)-1\n",
    "\n",
    "# Split into train and test sets but keep all 9 columns\n",
    "train = dataset.iloc[:n_train_rows, :]\n",
    "test = dataset.iloc[n_train_rows:, :]\n",
    "\n",
    "# The total rows of the two datasets should equal the total amount of rows in your CSV\n",
    "print(train.shape)\n",
    "print(test.shape)"
   ]
  },
  {
   "cell_type": "code",
   "execution_count": 102,
   "id": "731017ab-4c2e-4e2d-840f-2caa5dc3c8e3",
   "metadata": {},
   "outputs": [],
   "source": [
    "# Normalise features\n",
    "sc = MinMaxScaler(feature_range = (0, 1))\n",
    "training_set_scaled = sc.fit_transform(train.values)\n",
    "test_set_scaled = sc.fit_transform(test.values)"
   ]
  },
  {
   "cell_type": "code",
   "execution_count": 103,
   "id": "ba689d6f-9669-4d51-856e-9d45415305f5",
   "metadata": {},
   "outputs": [],
   "source": [
    "#test_set_scaled[:5]"
   ]
  },
  {
   "cell_type": "code",
   "execution_count": 122,
   "id": "a406a81f-bb70-4191-896b-bc9366ea3ba3",
   "metadata": {},
   "outputs": [],
   "source": [
    "steps = 10"
   ]
  },
  {
   "cell_type": "code",
   "execution_count": 123,
   "id": "29e281d7-e249-499a-adc3-5ebaf3e7dcc1",
   "metadata": {},
   "outputs": [
    {
     "name": "stdout",
     "output_type": "stream",
     "text": [
      "(2746, 10, 5)\n"
     ]
    }
   ],
   "source": [
    "# Prepare the training data\n",
    "x_train = []\n",
    "y_train = []\n",
    "\n",
    "for i in range(steps, training_set_scaled.shape[0]-steps):\n",
    "    x_train.append(training_set_scaled[i-steps:i, :])\n",
    "    y_train.append(training_set_scaled[i, :])\n",
    "\n",
    "x_train, y_train = np.array(x_train), np.array(y_train)\n",
    "print(x_train.shape)"
   ]
  },
  {
   "cell_type": "code",
   "execution_count": 124,
   "id": "e4033e6a-1d82-41d6-91ee-0154ac12376d",
   "metadata": {},
   "outputs": [
    {
     "name": "stdout",
     "output_type": "stream",
     "text": [
      "(683, 10, 5)\n"
     ]
    }
   ],
   "source": [
    "# Prepare the test data\n",
    "x_test = []\n",
    "y_test = []\n",
    "\n",
    "for i in range(steps, test_set_scaled.shape[0]):\n",
    "    x_test.append(test_set_scaled[i-steps:i, :])\n",
    "    y_test.append(test_set_scaled[i, :])\n",
    "\n",
    "x_test, y_test = np.array(x_test), np.array(y_test)\n",
    "print(x_test.shape)"
   ]
  },
  {
   "cell_type": "code",
   "execution_count": 125,
   "id": "0c693dca-ab32-487e-a557-8c5f5505a7db",
   "metadata": {},
   "outputs": [],
   "source": [
    "model = Sequential()"
   ]
  },
  {
   "cell_type": "code",
   "execution_count": 126,
   "id": "a83f62ea-5b21-4f90-9ced-f0a2e232d041",
   "metadata": {},
   "outputs": [
    {
     "name": "stdout",
     "output_type": "stream",
     "text": [
      "Reshaped X_train dimensions: (2746, 10, 5)\n"
     ]
    }
   ],
   "source": [
    "# Reshape the features for the model\n",
    "x_train = x_train.reshape((x_train.shape[0], x_train.shape[1],5))\n",
    "x_test = x_test.reshape((x_test.shape[0], x_test.shape[1],5))\n",
    "\n",
    "print(f\"Reshaped X_train dimensions: {x_train.shape}\")"
   ]
  },
  {
   "cell_type": "code",
   "execution_count": 127,
   "id": "baa5a6cd-ab06-494e-bc4c-2bd013188a07",
   "metadata": {},
   "outputs": [
    {
     "name": "stdout",
     "output_type": "stream",
     "text": [
      "Epoch 1/100\n",
      "86/86 [==============================] - 11s 36ms/step - loss: 0.1690 - mae: 0.1690\n",
      "Epoch 2/100\n",
      "86/86 [==============================] - 3s 38ms/step - loss: 0.1501 - mae: 0.1501\n",
      "Epoch 3/100\n",
      "86/86 [==============================] - 3s 40ms/step - loss: 0.1490 - mae: 0.1490\n",
      "Epoch 4/100\n",
      "86/86 [==============================] - 3s 36ms/step - loss: 0.1488 - mae: 0.1488\n",
      "Epoch 5/100\n",
      "86/86 [==============================] - 3s 36ms/step - loss: 0.1487 - mae: 0.1487\n",
      "Epoch 6/100\n",
      "86/86 [==============================] - 3s 38ms/step - loss: 0.1485 - mae: 0.1485\n",
      "Epoch 7/100\n",
      "86/86 [==============================] - 3s 40ms/step - loss: 0.1483 - mae: 0.1483\n",
      "Epoch 8/100\n",
      "86/86 [==============================] - 3s 38ms/step - loss: 0.1478 - mae: 0.1478\n",
      "Epoch 9/100\n",
      "86/86 [==============================] - 3s 38ms/step - loss: 0.1478 - mae: 0.1478\n",
      "Epoch 10/100\n",
      "86/86 [==============================] - 3s 37ms/step - loss: 0.1477 - mae: 0.1477\n",
      "Epoch 11/100\n",
      "86/86 [==============================] - 3s 30ms/step - loss: 0.1474 - mae: 0.1474\n",
      "Epoch 12/100\n",
      "86/86 [==============================] - 3s 37ms/step - loss: 0.1470 - mae: 0.1470\n",
      "Epoch 13/100\n",
      "86/86 [==============================] - 4s 41ms/step - loss: 0.1471 - mae: 0.1471\n",
      "Epoch 14/100\n",
      "86/86 [==============================] - 4s 42ms/step - loss: 0.1470 - mae: 0.1470\n",
      "Epoch 15/100\n",
      "86/86 [==============================] - 3s 40ms/step - loss: 0.1467 - mae: 0.1467\n",
      "Epoch 16/100\n",
      "86/86 [==============================] - 3s 30ms/step - loss: 0.1467 - mae: 0.1467\n",
      "Epoch 17/100\n",
      "86/86 [==============================] - 3s 32ms/step - loss: 0.1467 - mae: 0.1467\n",
      "Epoch 18/100\n",
      "86/86 [==============================] - 3s 34ms/step - loss: 0.1463 - mae: 0.1463\n",
      "Epoch 19/100\n",
      "86/86 [==============================] - 3s 32ms/step - loss: 0.1464 - mae: 0.1464\n",
      "Epoch 20/100\n",
      "86/86 [==============================] - 3s 40ms/step - loss: 0.1464 - mae: 0.1464\n",
      "Epoch 21/100\n",
      "86/86 [==============================] - 3s 37ms/step - loss: 0.1463 - mae: 0.1463\n",
      "Epoch 22/100\n",
      "86/86 [==============================] - 3s 39ms/step - loss: 0.1463 - mae: 0.1463\n",
      "Epoch 23/100\n",
      "86/86 [==============================] - 3s 31ms/step - loss: 0.1464 - mae: 0.1464\n",
      "Epoch 24/100\n",
      "86/86 [==============================] - 3s 31ms/step - loss: 0.1462 - mae: 0.1462\n",
      "Epoch 25/100\n",
      "86/86 [==============================] - 3s 35ms/step - loss: 0.1462 - mae: 0.1462\n",
      "Epoch 26/100\n",
      "86/86 [==============================] - 3s 37ms/step - loss: 0.1461 - mae: 0.1461\n",
      "Epoch 27/100\n",
      "86/86 [==============================] - 2s 29ms/step - loss: 0.1460 - mae: 0.1460\n",
      "Epoch 28/100\n",
      "86/86 [==============================] - 2s 28ms/step - loss: 0.1460 - mae: 0.1460\n",
      "Epoch 29/100\n",
      "86/86 [==============================] - 2s 24ms/step - loss: 0.1459 - mae: 0.1459\n",
      "Epoch 30/100\n",
      "86/86 [==============================] - 2s 26ms/step - loss: 0.1461 - mae: 0.1461\n",
      "Epoch 31/100\n",
      "86/86 [==============================] - 2s 28ms/step - loss: 0.1462 - mae: 0.1462\n",
      "Epoch 32/100\n",
      "86/86 [==============================] - 3s 34ms/step - loss: 0.1459 - mae: 0.1459\n",
      "Epoch 33/100\n",
      "86/86 [==============================] - 2s 27ms/step - loss: 0.1459 - mae: 0.1459\n",
      "Epoch 34/100\n",
      "86/86 [==============================] - 3s 31ms/step - loss: 0.1458 - mae: 0.1458\n",
      "Epoch 35/100\n",
      "86/86 [==============================] - 3s 35ms/step - loss: 0.1459 - mae: 0.1459\n",
      "Epoch 36/100\n",
      "86/86 [==============================] - 3s 38ms/step - loss: 0.1459 - mae: 0.1459\n",
      "Epoch 37/100\n",
      "86/86 [==============================] - 3s 37ms/step - loss: 0.1458 - mae: 0.1458\n",
      "Epoch 38/100\n",
      "86/86 [==============================] - 3s 38ms/step - loss: 0.1458 - mae: 0.1458\n",
      "Epoch 39/100\n",
      "86/86 [==============================] - 3s 39ms/step - loss: 0.1456 - mae: 0.1456\n",
      "Epoch 40/100\n",
      "86/86 [==============================] - 3s 39ms/step - loss: 0.1458 - mae: 0.1458\n",
      "Epoch 41/100\n",
      "86/86 [==============================] - 3s 38ms/step - loss: 0.1456 - mae: 0.1456\n",
      "Epoch 42/100\n",
      "86/86 [==============================] - 3s 37ms/step - loss: 0.1457 - mae: 0.1457\n",
      "Epoch 43/100\n",
      "86/86 [==============================] - 3s 39ms/step - loss: 0.1457 - mae: 0.1457\n",
      "Epoch 44/100\n",
      "86/86 [==============================] - 3s 37ms/step - loss: 0.1458 - mae: 0.1458\n",
      "Epoch 45/100\n",
      "86/86 [==============================] - 3s 36ms/step - loss: 0.1457 - mae: 0.1457\n",
      "Epoch 46/100\n",
      "86/86 [==============================] - 3s 39ms/step - loss: 0.1456 - mae: 0.1456\n",
      "Epoch 47/100\n",
      "86/86 [==============================] - 3s 40ms/step - loss: 0.1457 - mae: 0.1457\n",
      "Epoch 48/100\n",
      "86/86 [==============================] - 3s 34ms/step - loss: 0.1456 - mae: 0.1456\n",
      "Epoch 49/100\n",
      "86/86 [==============================] - 3s 38ms/step - loss: 0.1455 - mae: 0.1455\n",
      "Epoch 50/100\n",
      "86/86 [==============================] - 3s 37ms/step - loss: 0.1455 - mae: 0.1455\n",
      "Epoch 51/100\n",
      "86/86 [==============================] - 3s 39ms/step - loss: 0.1455 - mae: 0.1455\n",
      "Epoch 52/100\n",
      "86/86 [==============================] - 3s 39ms/step - loss: 0.1455 - mae: 0.1455\n",
      "Epoch 53/100\n",
      "86/86 [==============================] - 3s 38ms/step - loss: 0.1455 - mae: 0.1455\n",
      "Epoch 54/100\n",
      "86/86 [==============================] - 3s 41ms/step - loss: 0.1455 - mae: 0.1455\n",
      "Epoch 55/100\n",
      "86/86 [==============================] - 4s 43ms/step - loss: 0.1455 - mae: 0.1455\n",
      "Epoch 56/100\n",
      "86/86 [==============================] - 3s 39ms/step - loss: 0.1455 - mae: 0.1455\n",
      "Epoch 57/100\n",
      "86/86 [==============================] - 3s 39ms/step - loss: 0.1455 - mae: 0.1455\n",
      "Epoch 58/100\n",
      "86/86 [==============================] - 3s 38ms/step - loss: 0.1456 - mae: 0.1456\n",
      "Epoch 59/100\n",
      "86/86 [==============================] - 3s 36ms/step - loss: 0.1455 - mae: 0.1455\n",
      "Epoch 60/100\n",
      "86/86 [==============================] - 3s 40ms/step - loss: 0.1455 - mae: 0.1455\n",
      "Epoch 61/100\n",
      "86/86 [==============================] - 3s 37ms/step - loss: 0.1455 - mae: 0.1455\n",
      "Epoch 62/100\n",
      "86/86 [==============================] - 3s 38ms/step - loss: 0.1455 - mae: 0.1455\n",
      "Epoch 63/100\n",
      "86/86 [==============================] - 3s 39ms/step - loss: 0.1454 - mae: 0.1454\n",
      "Epoch 64/100\n",
      "86/86 [==============================] - 4s 42ms/step - loss: 0.1454 - mae: 0.1454\n",
      "Epoch 65/100\n",
      "86/86 [==============================] - 4s 41ms/step - loss: 0.1454 - mae: 0.1454\n",
      "Epoch 66/100\n",
      "86/86 [==============================] - 4s 42ms/step - loss: 0.1455 - mae: 0.1455\n",
      "Epoch 67/100\n",
      "86/86 [==============================] - 3s 33ms/step - loss: 0.1454 - mae: 0.1454\n",
      "Epoch 68/100\n",
      "86/86 [==============================] - 3s 37ms/step - loss: 0.1454 - mae: 0.1454\n",
      "Epoch 69/100\n",
      "86/86 [==============================] - 3s 37ms/step - loss: 0.1453 - mae: 0.1453\n",
      "Epoch 70/100\n",
      "86/86 [==============================] - 3s 38ms/step - loss: 0.1455 - mae: 0.1455\n",
      "Epoch 71/100\n",
      "86/86 [==============================] - 3s 35ms/step - loss: 0.1454 - mae: 0.1454\n",
      "Epoch 72/100\n",
      "86/86 [==============================] - 3s 40ms/step - loss: 0.1454 - mae: 0.1454\n",
      "Epoch 73/100\n",
      "86/86 [==============================] - 3s 38ms/step - loss: 0.1454 - mae: 0.1454\n",
      "Epoch 74/100\n",
      "86/86 [==============================] - 3s 39ms/step - loss: 0.1454 - mae: 0.1454\n",
      "Epoch 75/100\n",
      "86/86 [==============================] - 3s 38ms/step - loss: 0.1453 - mae: 0.1453\n",
      "Epoch 76/100\n",
      "86/86 [==============================] - 3s 37ms/step - loss: 0.1455 - mae: 0.1455\n",
      "Epoch 77/100\n",
      "86/86 [==============================] - 3s 40ms/step - loss: 0.1454 - mae: 0.1454\n",
      "Epoch 78/100\n",
      "86/86 [==============================] - 3s 40ms/step - loss: 0.1454 - mae: 0.1454\n",
      "Epoch 79/100\n",
      "86/86 [==============================] - 3s 41ms/step - loss: 0.1454 - mae: 0.1454\n",
      "Epoch 80/100\n",
      "86/86 [==============================] - 3s 37ms/step - loss: 0.1454 - mae: 0.1454\n",
      "Epoch 81/100\n",
      "86/86 [==============================] - 3s 39ms/step - loss: 0.1454 - mae: 0.1454\n",
      "Epoch 82/100\n",
      "86/86 [==============================] - 3s 39ms/step - loss: 0.1453 - mae: 0.1453\n",
      "Epoch 83/100\n",
      "86/86 [==============================] - 3s 38ms/step - loss: 0.1454 - mae: 0.1454\n",
      "Epoch 84/100\n",
      "86/86 [==============================] - 3s 40ms/step - loss: 0.1454 - mae: 0.1454\n",
      "Epoch 85/100\n",
      "86/86 [==============================] - 3s 40ms/step - loss: 0.1454 - mae: 0.1454\n",
      "Epoch 86/100\n",
      "86/86 [==============================] - 3s 39ms/step - loss: 0.1454 - mae: 0.1454\n",
      "Epoch 87/100\n",
      "86/86 [==============================] - 3s 39ms/step - loss: 0.1454 - mae: 0.1454\n",
      "Epoch 88/100\n",
      "86/86 [==============================] - 3s 40ms/step - loss: 0.1453 - mae: 0.1453\n",
      "Epoch 89/100\n",
      "86/86 [==============================] - 3s 39ms/step - loss: 0.1454 - mae: 0.1454\n",
      "Epoch 90/100\n",
      "86/86 [==============================] - 3s 39ms/step - loss: 0.1453 - mae: 0.1453\n",
      "Epoch 91/100\n",
      "86/86 [==============================] - 3s 40ms/step - loss: 0.1454 - mae: 0.1454\n",
      "Epoch 92/100\n",
      "86/86 [==============================] - 3s 37ms/step - loss: 0.1453 - mae: 0.1453\n",
      "Epoch 93/100\n",
      "86/86 [==============================] - 3s 39ms/step - loss: 0.1453 - mae: 0.1453\n",
      "Epoch 94/100\n",
      "86/86 [==============================] - 3s 39ms/step - loss: 0.1452 - mae: 0.1452\n",
      "Epoch 95/100\n",
      "86/86 [==============================] - 3s 40ms/step - loss: 0.1453 - mae: 0.1453\n",
      "Epoch 96/100\n",
      "86/86 [==============================] - 3s 41ms/step - loss: 0.1453 - mae: 0.1453\n",
      "Epoch 97/100\n",
      "86/86 [==============================] - 3s 38ms/step - loss: 0.1452 - mae: 0.1452\n",
      "Epoch 98/100\n",
      "86/86 [==============================] - 3s 37ms/step - loss: 0.1452 - mae: 0.1452\n",
      "Epoch 99/100\n",
      "86/86 [==============================] - 3s 38ms/step - loss: 0.1453 - mae: 0.1453\n",
      "Epoch 100/100\n",
      "86/86 [==============================] - 3s 39ms/step - loss: 0.1453 - mae: 0.1453\n"
     ]
    },
    {
     "data": {
      "text/plain": [
       "<bound method Model.summary of <keras.engine.sequential.Sequential object at 0x000002AF1B128880>>"
      ]
     },
     "execution_count": 127,
     "metadata": {},
     "output_type": "execute_result"
    }
   ],
   "source": [
    "epochs = 100\n",
    "\n",
    "model.add(LSTM(units=50, return_sequences = True, input_shape = (x_train.shape[1],5)))\n",
    "model.add(Dropout(0.2))\n",
    "model.add(LSTM(units=50, return_sequences = True))\n",
    "model.add(Dropout(0.2))\n",
    "model.add(LSTM(units=50, return_sequences = True))\n",
    "model.add(Dropout(0.2))\n",
    "model.add(LSTM(units=50))\n",
    "model.add(Dropout(0.2))\n",
    "#model.add(Dense(units=5,activation='relu',kernel_regularizer=l2(0.01), bias_regularizer=l2(0.01)))\n",
    "model.add(Dense(units=5,activation='softmax'))\n",
    "\n",
    "#model.compile(loss=\"mse\",optimizer=\"adam\")\n",
    "model.compile(loss='mean_absolute_error', optimizer='adam', metrics=['mae'])\n",
    "model.fit(x_train, y_train, batch_size = 32, epochs = epochs)\n",
    "model.summary\n",
    "#loss =mean_absolute_error\n",
    "#metrics = mae\n"
   ]
  },
  {
   "cell_type": "code",
   "execution_count": 128,
   "id": "d78b2c87-6134-4dae-9264-a55886b171c9",
   "metadata": {},
   "outputs": [
    {
     "name": "stdout",
     "output_type": "stream",
     "text": [
      "\n",
      "# Evaluate on test data\n",
      "22/22 [==============================] - 2s 11ms/step - loss: 0.2610 - mae: 0.2610\n",
      "test loss, test acc: [0.2610463798046112, 0.2610463798046112]\n",
      "LSTM RMSE = 0.51\n"
     ]
    }
   ],
   "source": [
    "# Evaluate the model on the test data using `evaluate`\n",
    "print('\\n# Evaluate on test data')\n",
    "scores = model.evaluate(x_test, y_test)\n",
    "print('test loss, test acc:', scores)\n",
    "print(f'LSTM RMSE = {np.sqrt(scores[1]):.2f}')"
   ]
  },
  {
   "cell_type": "code",
   "execution_count": 129,
   "id": "05981bf2-ac7b-4dd8-a1d5-50e2a8738c58",
   "metadata": {},
   "outputs": [
    {
     "name": "stdout",
     "output_type": "stream",
     "text": [
      "22/22 [==============================] - 2s 14ms/step\n"
     ]
    }
   ],
   "source": [
    "# Predict values from test data trained using training data\n",
    "y_pred = model.predict(x_test)\n",
    "y_pred = sc.inverse_transform(y_pred)"
   ]
  },
  {
   "cell_type": "code",
   "execution_count": 130,
   "id": "7717fa97-2d34-468d-a8e3-52874a5d3027",
   "metadata": {},
   "outputs": [
    {
     "data": {
      "image/png": "[encoded data removed]",
      "text/plain": [
       "<Figure size 1800x900 with 1 Axes>"
      ]
     },
     "metadata": {},
     "output_type": "display_data"
    }
   ],
   "source": [
    "y_test = test.reset_index()\n",
    "\n",
    "# Visualise the Close predictions\n",
    "plt.figure(figsize = (18,9))\n",
    "plt.plot(y_test['Close'], color = 'red', label = 'y_test')\n",
    "plt.plot(y_pred[:,0], color = 'blue', label = 'y_pred')\n",
    "#plt.title('Activation = elu y_pred[\"Close\"] vs y_test[\"Close\"]')\n",
    "plt.title(f'LSTM Activation = TBD, LSTM RMSE = {np.sqrt(scores[1]):.2f}, LSTM RMSE = {scores[1]:.4f},  y_pred[\"Close\"] vs y_test[\"Close\"]')\n",
    "plt.ylabel('Close - USD')\n",
    "plt.xlabel('Days')\n",
    "plt.legend()\n",
    "plt.savefig('images/LSTM_activation_TBD.png', dpi=100)\n",
    "plt.show()\n"
   ]
  },
  {
   "cell_type": "code",
   "execution_count": null,
   "id": "e0969da5-c22b-4764-ab6c-8e492777d082",
   "metadata": {},
   "outputs": [],
   "source": []
  },
  {
   "cell_type": "code",
   "execution_count": null,
   "id": "437b342b-6f3e-4303-9252-aeb608b81cf3",
   "metadata": {},
   "outputs": [],
   "source": []
  }
 ],
 "metadata": {
  "kernelspec": {
   "display_name": "Python 3 (ipykernel)",
   "language": "python",
   "name": "python3"
  },
  "language_info": {
   "codemirror_mode": {
    "name": "ipython",
    "version": 3
   },
   "file_extension": ".py",
   "mimetype": "text/x-python",
   "name": "python",
   "nbconvert_exporter": "python",
   "pygments_lexer": "ipython3",
   "version": "3.9.16"
  }
 },
 "nbformat": 4,
 "nbformat_minor": 5
}
